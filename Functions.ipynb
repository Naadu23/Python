{
 "cells": [
  {
   "cell_type": "markdown",
   "id": "3a9bc4bf",
   "metadata": {},
   "source": [
    "# Functions"
   ]
  },
  {
   "cell_type": "code",
   "execution_count": 1,
   "id": "18621247",
   "metadata": {},
   "outputs": [
    {
     "name": "stdout",
     "output_type": "stream",
     "text": [
      "Enter a number to find its four multiple\n",
      " 8\n",
      "The result is: 32\n"
     ]
    }
   ],
   "source": [
    "#Taking input and using a function to display its four multiple\n",
    "numb = int(input(\"Enter a number to find its four multiple\\n \"))\n",
    "\n",
    "#Create a function\n",
    "def ab(numb):\n",
    "    ans = 4 * numb\n",
    "    return ans\n",
    "\n",
    "result = ab(numb)\n",
    "print(f\"The result is: {result}\")"
   ]
  },
  {
   "cell_type": "code",
   "execution_count": 4,
   "id": "e0cd9298",
   "metadata": {},
   "outputs": [
    {
     "name": "stdout",
     "output_type": "stream",
     "text": [
      "Enter name of the item (or 'done' to finish): 45\n",
      "Enter item quantity: 8\n",
      "Enter name of the item (or 'done' to finish): Done\n",
      "Inventory: {'45': 8}\n",
      "Total stock: 8\n"
     ]
    }
   ],
   "source": [
    "#create a list with both items and their quantity available\n",
    "#define a variable to store the information using dictionary\n",
    "items = {}\n",
    "\n",
    "#Create a loop for multiple inputs of both items and their quantity\n",
    "while True:\n",
    "    item = input(\"Enter name of the item (or 'done' to finish): \")\n",
    "    \n",
    "    if item.lower() == 'done':\n",
    "        break\n",
    "    \n",
    "    quantity = int(input(\"Enter item quantity: \"))\n",
    "    items[item] = quantity\n",
    "print(f'Inventory: {items}')\n",
    "\n",
    "#Display total item quantity in stock\n",
    "#first create a function to be called in finding the stock quantity\n",
    "def total_stock(items):\n",
    "    '''\n",
    "    The total quantity of items in stock\n",
    "    '''\n",
    "    total = sum(items.values())\n",
    "    return total\n",
    "\n",
    "total_quantity = total_stock(items)\n",
    "print(f'Total stock: {total_quantity}')"
   ]
  },
  {
   "cell_type": "code",
   "execution_count": null,
   "id": "a7c1ebf2",
   "metadata": {},
   "outputs": [],
   "source": []
  }
 ],
 "metadata": {
  "kernelspec": {
   "display_name": "Python 3 (ipykernel)",
   "language": "python",
   "name": "python3"
  },
  "language_info": {
   "codemirror_mode": {
    "name": "ipython",
    "version": 3
   },
   "file_extension": ".py",
   "mimetype": "text/x-python",
   "name": "python",
   "nbconvert_exporter": "python",
   "pygments_lexer": "ipython3",
   "version": "3.11.5"
  }
 },
 "nbformat": 4,
 "nbformat_minor": 5
}
