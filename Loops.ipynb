{
 "cells": [
  {
   "cell_type": "markdown",
   "id": "125b80eb",
   "metadata": {},
   "source": [
    "# Loops"
   ]
  },
  {
   "cell_type": "markdown",
   "id": "c981861e",
   "metadata": {},
   "source": [
    "# Q1\n",
    "Write a code to display a list of the first 12 multiples of 8 using a for loop\n"
   ]
  },
  {
   "cell_type": "code",
   "execution_count": 1,
   "id": "c781da95",
   "metadata": {},
   "outputs": [
    {
     "data": {
      "text/plain": [
       "[8, 16, 24, 32, 40, 48, 56, 64, 72, 80, 88, 96]"
      ]
     },
     "execution_count": 1,
     "metadata": {},
     "output_type": "execute_result"
    }
   ],
   "source": [
    "#Displaying a list of the first 12 multiples of 8.\n",
    "Multiples_of_8 = [8*i for i in range(1, 13)]\n",
    "Multiples_of_8"
   ]
  },
  {
   "cell_type": "markdown",
   "id": "d9f7d0f9",
   "metadata": {},
   "source": [
    "# Q2\n",
    "Write the code to print sum of all even numbers from 1 to 201"
   ]
  },
  {
   "cell_type": "code",
   "execution_count": 1,
   "id": "c2c1b291",
   "metadata": {},
   "outputs": [
    {
     "name": "stdout",
     "output_type": "stream",
     "text": [
      "The sum of all even numbers from 1 to 201 is 10100\n"
     ]
    }
   ],
   "source": [
    "#Create variable to store sum of even numbers\n",
    "sum_even = 0\n",
    "for x in range (1, 202):\n",
    "    if x%2 == 0:\n",
    "        sum_even+= x\n",
    "        \n",
    "#Print the sum of all even numbers from 1 to 201\n",
    "print(\"The sum of all even numbers from 1 to 201 is\", sum_even)"
   ]
  },
  {
   "cell_type": "markdown",
   "id": "4f0f12d7",
   "metadata": {},
   "source": [
    "# Q3\n",
    "`my_list = [3, 5, 7, 12, 41]`\n",
    "\n",
    "Write the code to display the list of the squares of each number in my list\n",
    "\n",
    "- Without using list comprehension\n",
    "- Using list comprehension\n"
   ]
  },
  {
   "cell_type": "code",
   "execution_count": 2,
   "id": "7248717f",
   "metadata": {},
   "outputs": [
    {
     "name": "stdout",
     "output_type": "stream",
     "text": [
      "The list of the squares of each number in my list is [9, 25, 49, 144, 1681]\n"
     ]
    }
   ],
   "source": [
    "#Without using list comprehension\n",
    "my_list = [3, 5, 7, 12, 41]\n",
    "square_list = []\n",
    "for num in my_list:\n",
    "    square_list.append(num**2)\n",
    "print(\"The list of the squares of each number in my list is\", square_list)"
   ]
  },
  {
   "cell_type": "code",
   "execution_count": 4,
   "id": "400e7978",
   "metadata": {},
   "outputs": [
    {
     "data": {
      "text/plain": [
       "[9, 25, 49, 144, 1681]"
      ]
     },
     "execution_count": 4,
     "metadata": {},
     "output_type": "execute_result"
    }
   ],
   "source": [
    "#Using list comprehension\n",
    "square_list = [num**2 for num in my_list]\n",
    "square_list"
   ]
  },
  {
   "cell_type": "markdown",
   "id": "28bed149",
   "metadata": {},
   "source": [
    "# Q4\n",
    "`my_list1 = [3, 53,47, 22, 53, 78, 12, 41]`\n",
    "\n",
    "Calculate the average of my_list1\n",
    "\n",
    "- Without using sum and len fucnctions\n",
    "- Using sum and len functions\n"
   ]
  },
  {
   "cell_type": "code",
   "execution_count": 3,
   "id": "04e5bb40",
   "metadata": {},
   "outputs": [
    {
     "name": "stdout",
     "output_type": "stream",
     "text": [
      "The average of my_list1 is 38.625\n"
     ]
    }
   ],
   "source": [
    "#Create a variable to store my list\n",
    "my_list1 = [3, 53,47, 22, 53, 78, 12, 41]\n",
    "\n",
    "#Without using sum and len fucnctions\n",
    "sum_total = 0\n",
    "sum_count = 0\n",
    "for i in my_list1:\n",
    "    sum_total+= i\n",
    "    sum_count+= 1\n",
    "\n",
    "#Find average\n",
    "average = sum_total / sum_count\n",
    "\n",
    "#Print average\n",
    "print(\"The average of my_list1 is\", average)"
   ]
  },
  {
   "cell_type": "code",
   "execution_count": 4,
   "id": "71af6976",
   "metadata": {},
   "outputs": [
    {
     "name": "stdout",
     "output_type": "stream",
     "text": [
      "The average of my_list1 is 38.625\n"
     ]
    }
   ],
   "source": [
    "#Using sum and len fucnctions\n",
    "average = sum(my_list1) / len(my_list1)\n",
    "\n",
    "#Print average\n",
    "print(\"The average of my_list1 is\", average)"
   ]
  },
  {
   "cell_type": "markdown",
   "id": "38c1ddff",
   "metadata": {},
   "source": [
    "# Q4\n",
    "\n",
    "Write a Python program to guess a number between 1 and 9.\n",
    "User is prompted to enter a guess. If the user guesses wrong then the prompt appears again until the guess is correct, on successful guess, user will get a \"Well guessed!\" message, and the program will exit."
   ]
  },
  {
   "cell_type": "code",
   "execution_count": 7,
   "id": "e8fce576",
   "metadata": {},
   "outputs": [
    {
     "name": "stdout",
     "output_type": "stream",
     "text": [
      "Guess a number between 1 and 9: 6\n",
      "Well guessed!\n"
     ]
    }
   ],
   "source": [
    "#Generate a secret number between 1 and 9\n",
    "secret_number = 6 \n",
    "\n",
    "while True:\n",
    "    guess_num = int(input(\"Guess a number between 1 and 9: \"))\n",
    "\n",
    "    if guess_num == secret_number:\n",
    "        print(\"Well guessed!\")\n",
    "        break\n",
    "    else:\n",
    "        print(\"Wrong guess. Try again.\")"
   ]
  },
  {
   "cell_type": "markdown",
   "id": "f5c02baa",
   "metadata": {},
   "source": [
    "# Q5\n",
    "Write a Python program to construct the following pattern.\n",
    "\n",
    "`*` \n",
    "\n",
    "`* *` \n",
    "\n",
    "`* * *` \n",
    "\n",
    "`* * * *` \n",
    "\n",
    "`* * * * *`"
   ]
  },
  {
   "cell_type": "code",
   "execution_count": 8,
   "id": "7f7c2370",
   "metadata": {},
   "outputs": [
    {
     "name": "stdout",
     "output_type": "stream",
     "text": [
      "*\n",
      "**\n",
      "***\n",
      "****\n",
      "*****\n"
     ]
    }
   ],
   "source": [
    "#constructing the pattern\n",
    "for i in range(1,6):\n",
    "    print(\"*\" * i)"
   ]
  },
  {
   "cell_type": "markdown",
   "id": "e85d94df",
   "metadata": {},
   "source": [
    "# Q6\n",
    "\n",
    "Write a Python program that accepts a word from the user and reverses it."
   ]
  },
  {
   "cell_type": "code",
   "execution_count": 11,
   "id": "1aa3fe3b",
   "metadata": {},
   "outputs": [
    {
     "name": "stdout",
     "output_type": "stream",
     "text": [
      "Enter a word to be reversed :YAW\n",
      "The entered word was YAW  \n",
      " The reversed form is WAY\n"
     ]
    }
   ],
   "source": [
    "#Create a variable to save user input\n",
    "user_word = str(input(\"Enter a word to be reversed :\"))\n",
    "\n",
    "#Reserve the word\n",
    "reversed_word = user_word[::-1]\n",
    "\n",
    "#Print the reversed word\n",
    "print(\"The entered word was\",user_word, \" \\n The reversed form is\", reversed_word)"
   ]
  },
  {
   "cell_type": "markdown",
   "id": "5fe06511",
   "metadata": {},
   "source": [
    "# Q7\n",
    "Write a Python program that accepts a word from the user and reverses it."
   ]
  },
  {
   "cell_type": "code",
   "execution_count": 12,
   "id": "e8f01d24",
   "metadata": {},
   "outputs": [
    {
     "name": "stdout",
     "output_type": "stream",
     "text": [
      "Enter a word to be reversed :RINGING\n",
      "The entered word was RINGING  \n",
      " The reversed form is GNIGNIR\n"
     ]
    }
   ],
   "source": [
    "#Create a variable to save user input\n",
    "word = str(input(\"Enter a word to be reversed :\"))\n",
    "\n",
    "#Reserve the word\n",
    "reverse_word = word[::-1]\n",
    "\n",
    "#Print the reversed word\n",
    "print(\"The entered word was\",word, \" \\n The reversed form is\", reverse_word)"
   ]
  },
  {
   "cell_type": "markdown",
   "id": "5a99d4b3",
   "metadata": {},
   "source": [
    "# Q8\n",
    "\n",
    "`lst = [3,4,5,4,7,8,5,8,3,6,8,9,11]`\n",
    "\n",
    "Write a Python program to count the number of even and odd numbers in the above list of numbers.\n",
    "\n",
    "**Expected output should be in this format**\n",
    "\n",
    "{\"Even\" : num_of_even, \"Odd\": num_of_odd}"
   ]
  },
  {
   "cell_type": "code",
   "execution_count": 13,
   "id": "96fc1d07",
   "metadata": {},
   "outputs": [
    {
     "name": "stdout",
     "output_type": "stream",
     "text": [
      "{'Even': 6, 'Odd': 7}\n"
     ]
    }
   ],
   "source": [
    "#Create a list\n",
    "lst = [3,4,5,4,7,8,5,8,3,6,8,9,11]\n",
    "\n",
    "#Initiate odd and even\n",
    "odd = 0\n",
    "even = 0\n",
    "\n",
    "for j in lst:\n",
    "    if j%2== 0:\n",
    "        even+= 1\n",
    "    else:\n",
    "        odd+= 1\n",
    "        \n",
    "#Print the count of even and odd numbers in the created list of numbers.\n",
    "numbers= {\"Even\" : even, \"Odd\": odd}\n",
    "print(numbers)"
   ]
  },
  {
   "cell_type": "markdown",
   "id": "c92b54f9",
   "metadata": {},
   "source": [
    "# Q9\n",
    " Write a Python program that iterates the integers from 1 to 50. For multiples of three print \"Fizz\" instead of the number and for multiples of five print \"Buzz\". For numbers that are multiples of three and five, print \"FizzBuzz\".\n",
    "Sample Output :\n",
    "1\n",
    "\n",
    "2\n",
    "\n",
    "fizz\n",
    "\n",
    "4\n",
    "\n",
    "buzz"
   ]
  },
  {
   "cell_type": "code",
   "execution_count": 12,
   "id": "8be2d32b",
   "metadata": {},
   "outputs": [
    {
     "name": "stdout",
     "output_type": "stream",
     "text": [
      "1\n",
      "2\n",
      "Fizz\n",
      "4\n",
      "Buzz\n",
      "Fizz\n",
      "7\n",
      "8\n",
      "Fizz\n",
      "Buzz\n",
      "11\n",
      "Fizz\n",
      "13\n",
      "14\n",
      "FizzBuzz\n",
      "16\n",
      "17\n",
      "Fizz\n",
      "19\n",
      "Buzz\n",
      "Fizz\n",
      "22\n",
      "23\n",
      "Fizz\n",
      "Buzz\n",
      "26\n",
      "Fizz\n",
      "28\n",
      "29\n",
      "FizzBuzz\n",
      "31\n",
      "32\n",
      "Fizz\n",
      "34\n",
      "Buzz\n",
      "Fizz\n",
      "37\n",
      "38\n",
      "Fizz\n",
      "Buzz\n",
      "41\n",
      "Fizz\n",
      "43\n",
      "44\n",
      "FizzBuzz\n",
      "46\n",
      "47\n",
      "Fizz\n",
      "49\n",
      "Buzz\n"
     ]
    }
   ],
   "source": [
    "for num in range (1,51):\n",
    "    if num%3 == 0 and num%5 == 0:\n",
    "        print(\"FizzBuzz\")\n",
    "    elif num%3 == 0:\n",
    "        print(\"Fizz\")\n",
    "    elif num%5 == 0:\n",
    "        print(\"Buzz\")\n",
    "    else:\n",
    "        print(num)\n",
    "    "
   ]
  },
  {
   "cell_type": "markdown",
   "id": "8d3505cf",
   "metadata": {},
   "source": [
    "# Q10\n",
    " Write a Python program to find the median of three values inputs from the user"
   ]
  },
  {
   "cell_type": "code",
   "execution_count": 15,
   "id": "fb987d11",
   "metadata": {},
   "outputs": [
    {
     "name": "stdout",
     "output_type": "stream",
     "text": [
      "Enter three values to find their median\n",
      "Enter the first value\n",
      "7\n",
      "Enter the second value\n",
      "8\n",
      "Enter the third value\n",
      "9\n",
      "The median is  8\n"
     ]
    }
   ],
   "source": [
    "#Create variables for all inputs\n",
    "print(\"Enter three values to find their median\")\n",
    "num1 = int(input(\"Enter the first value\\n\"))\n",
    "num2 = int(input(\"Enter the second value\\n\"))\n",
    "num3 = int(input(\"Enter the third value\\n\"))\n",
    "\n",
    "median = sorted([num1,num2,num3])[1]\n",
    "\n",
    "#Print the median\n",
    "print(\"The median is \", median)"
   ]
  },
  {
   "cell_type": "markdown",
   "id": "9ef4f8a2",
   "metadata": {},
   "source": [
    "# Q11\n",
    "Write a Python program to calculate the sum and average of n integer numbers (input from the user). Input 0 to finish."
   ]
  },
  {
   "cell_type": "code",
   "execution_count": 15,
   "id": "bb7c6ab3",
   "metadata": {},
   "outputs": [
    {
     "name": "stdout",
     "output_type": "stream",
     "text": [
      "Enter an integer (enter 0 to finish): 6\n",
      "Enter an integer (enter 0 to finish): 8\n",
      "Enter an integer (enter 0 to finish): 10\n",
      "Enter an integer (enter 0 to finish): 0\n",
      "Sum: 24\n",
      "Average: 8.0\n"
     ]
    }
   ],
   "source": [
    "# Define variables for summation and average\n",
    "sum_n = 0\n",
    "count_n = 0\n",
    "\n",
    "\n",
    "while True:\n",
    "    n = int(input(\"Enter an integer (enter 0 to finish): \"))\n",
    "    \n",
    "    # Using zero, check if the user wants to finish\n",
    "    if n == 0:\n",
    "        break\n",
    "    \n",
    "    # Update the summation and count for average\n",
    "    sum_n += n\n",
    "    count_n += 1\n",
    "\n",
    "# Check if at least one number was entered to avoid division by zero\n",
    "if count_n > 0:\n",
    "    average = sum_n / count_n\n",
    "    print(f\"Sum: {sum_n}\")\n",
    "    print(f\"Average: {average}\")\n",
    "else:\n",
    "    print(\"No numbers entered.\")"
   ]
  },
  {
   "cell_type": "markdown",
   "id": "45f5c335",
   "metadata": {},
   "source": [
    "# Q12\n",
    " Write a Python program to create the multiplication table (from 1 to 12) of a number input from a user.\n",
    " \n",
    " Expected Output:\n",
    "\n",
    "Input a number: 6                                                       \n",
    "6 x 1 = 6                                                               \n",
    "6 x 2 = 12                                                              \n",
    "6 x 3 = 18                                                              \n",
    "6 x 4 = 24                                                              \n",
    "6 x 5 = 30                                                              \n",
    "6 x 6 = 36                                                              \n",
    "6 x 7 = 42                                                              \n",
    "6 x 8 = 48                                                              \n",
    "6 x 9 = 54                                                              \n",
    "6 x 10 = 60 \n",
    "\n",
    "6 x 11 = 66\n",
    "\n",
    "6 x 12 = 72"
   ]
  },
  {
   "cell_type": "code",
   "execution_count": 16,
   "id": "13b84683",
   "metadata": {},
   "outputs": [
    {
     "name": "stdout",
     "output_type": "stream",
     "text": [
      "Enter a number to display its multiples : 9\n",
      "9 * 1 = 9\n",
      "9 * 2 = 18\n",
      "9 * 3 = 27\n",
      "9 * 4 = 36\n",
      "9 * 5 = 45\n",
      "9 * 6 = 54\n",
      "9 * 7 = 63\n",
      "9 * 8 = 72\n",
      "9 * 9 = 81\n",
      "9 * 10 = 90\n",
      "9 * 11 = 99\n",
      "9 * 12 = 108\n"
     ]
    }
   ],
   "source": [
    "#Create a variable to take user input\n",
    "number = int(input(\"Enter a number to display its multiples : \"))\n",
    "for i in range(1,13):\n",
    "    multiple = number * i\n",
    "\n",
    "#Print multiples\n",
    "    print(f\"{number} * {i} = {multiple}\")"
   ]
  },
  {
   "cell_type": "markdown",
   "id": "8cc97048",
   "metadata": {},
   "source": [
    "# Q13\n",
    "Write a Python program to construct the following pattern\n",
    "\n",
    "1\n",
    "\n",
    "22\n",
    "\n",
    "333\n",
    "\n",
    "4444\n",
    "\n",
    "55555\n",
    "\n",
    "666666\n",
    "\n",
    "7777777\n",
    "\n",
    "88888888\n",
    "\n",
    "999999999"
   ]
  },
  {
   "cell_type": "code",
   "execution_count": 17,
   "id": "aae9c52e",
   "metadata": {},
   "outputs": [
    {
     "name": "stdout",
     "output_type": "stream",
     "text": [
      "1\n",
      "22\n",
      "333\n",
      "4444\n",
      "55555\n",
      "666666\n",
      "7777777\n",
      "88888888\n",
      "999999999\n"
     ]
    }
   ],
   "source": [
    "#constructing the pattern\n",
    "for i in range(1,10):\n",
    "    print(str(i) * i)"
   ]
  },
  {
   "cell_type": "markdown",
   "id": "adef967a",
   "metadata": {},
   "source": [
    "# Q14\n",
    "Print sum of all odd numbers from 10 to 50"
   ]
  },
  {
   "cell_type": "code",
   "execution_count": 18,
   "id": "163135df",
   "metadata": {},
   "outputs": [],
   "source": [
    "#Using list comprehension\n",
    "#odd = sum(x for x in range (10, 51) if x%2 !=0)\n",
    "#print(odd)"
   ]
  },
  {
   "cell_type": "code",
   "execution_count": 17,
   "id": "7b3bcefe",
   "metadata": {},
   "outputs": [
    {
     "name": "stdout",
     "output_type": "stream",
     "text": [
      "The sum of all odd numbers from 10 to 50 is 600\n"
     ]
    }
   ],
   "source": [
    "sum_odd = 0\n",
    "for x in range (10, 51):\n",
    "    if x%2 !=0:\n",
    "        sum_odd+= x\n",
    "        \n",
    "#Print sum of all odd numbers from 10 to 50\n",
    "print(\"The sum of all odd numbers from 10 to 50 is\", sum_odd)"
   ]
  },
  {
   "cell_type": "markdown",
   "id": "1642ec1a",
   "metadata": {},
   "source": [
    "# Q15\n",
    "\n",
    "`my_list = [25, 100, 121, 400, 81]`\n",
    "\n",
    "Write the code to display the list of the square root of each number in my list\n",
    "\n",
    "- Without using list comprehension\n",
    "- Using list comprehension"
   ]
  },
  {
   "cell_type": "code",
   "execution_count": 20,
   "id": "be3f0615",
   "metadata": {},
   "outputs": [
    {
     "name": "stdout",
     "output_type": "stream",
     "text": [
      "[625, 10000, 14641, 160000, 6561]\n"
     ]
    }
   ],
   "source": [
    "#Without using list comprehension\n",
    "my_list = [25, 100, 121, 400, 81]\n",
    "square_list = []\n",
    "for num in my_list:\n",
    "    square_list.append(num**2)\n",
    "print(square_list)"
   ]
  },
  {
   "cell_type": "code",
   "execution_count": 21,
   "id": "3c300363",
   "metadata": {},
   "outputs": [
    {
     "data": {
      "text/plain": [
       "[625, 10000, 14641, 160000, 6561]"
      ]
     },
     "execution_count": 21,
     "metadata": {},
     "output_type": "execute_result"
    }
   ],
   "source": [
    "#Using list comprehension\n",
    "square_list = [num**2 for num in my_list]\n",
    "square_list"
   ]
  }
 ],
 "metadata": {
  "kernelspec": {
   "display_name": "Python 3 (ipykernel)",
   "language": "python",
   "name": "python3"
  },
  "language_info": {
   "codemirror_mode": {
    "name": "ipython",
    "version": 3
   },
   "file_extension": ".py",
   "mimetype": "text/x-python",
   "name": "python",
   "nbconvert_exporter": "python",
   "pygments_lexer": "ipython3",
   "version": "3.11.5"
  }
 },
 "nbformat": 4,
 "nbformat_minor": 5
}
