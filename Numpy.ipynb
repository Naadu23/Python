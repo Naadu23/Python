{
 "cells": [
  {
   "cell_type": "markdown",
   "id": "ed2bf7db",
   "metadata": {},
   "source": [
    "## Numpy "
   ]
  },
  {
   "cell_type": "code",
   "execution_count": 1,
   "id": "e10f161e",
   "metadata": {},
   "outputs": [],
   "source": [
    "#importing libraries\n",
    "import numpy as np"
   ]
  },
  {
   "cell_type": "markdown",
   "id": "f2a1ca3a",
   "metadata": {},
   "source": [
    "Write a NumPy program to create a 3x3 matrix with values ranging from 2 to 10. Expected Output: [[ 2 3 4] [ 5 6 7] [ 8 9 10]]"
   ]
  },
  {
   "cell_type": "code",
   "execution_count": 2,
   "id": "0774b5cb",
   "metadata": {},
   "outputs": [
    {
     "data": {
      "text/plain": [
       "array([ 2,  3,  4,  5,  6,  7,  8,  9, 10])"
      ]
     },
     "execution_count": 2,
     "metadata": {},
     "output_type": "execute_result"
    }
   ],
   "source": [
    "#Create 1D array\n",
    "val = np.arange(2,11)\n",
    "val"
   ]
  },
  {
   "cell_type": "code",
   "execution_count": 3,
   "id": "b7d04b1e",
   "metadata": {},
   "outputs": [
    {
     "data": {
      "text/plain": [
       "array([[ 2,  3,  4],\n",
       "       [ 5,  6,  7],\n",
       "       [ 8,  9, 10]])"
      ]
     },
     "execution_count": 3,
     "metadata": {},
     "output_type": "execute_result"
    }
   ],
   "source": [
    "#customize the shape\n",
    "val_shp = val.reshape(3,3)\n",
    "val_shp"
   ]
  },
  {
   "cell_type": "code",
   "execution_count": 4,
   "id": "d7d87e07",
   "metadata": {},
   "outputs": [
    {
     "data": {
      "text/plain": [
       "numpy.matrix"
      ]
     },
     "execution_count": 4,
     "metadata": {},
     "output_type": "execute_result"
    }
   ],
   "source": [
    "# change to a matrix\n",
    "val_mat = np.matrix(val_shp)\n",
    "type(val_mat)"
   ]
  },
  {
   "cell_type": "markdown",
   "id": "3a85817f",
   "metadata": {},
   "source": [
    "Write a NumPy program to create a null vector of size 10 and update the sixth value to 11. [ 0. 0. 0. 0. 0. 0. 0. 0. 0. 0.] Update sixth value to 11 [ 0. 0. 0. 0. 0. 0. 11. 0. 0. 0.]"
   ]
  },
  {
   "cell_type": "code",
   "execution_count": 5,
   "id": "4e7c4565",
   "metadata": {},
   "outputs": [
    {
     "name": "stdout",
     "output_type": "stream",
     "text": [
      "Null vetor: [0. 0. 0. 0. 0. 0. 0. 0. 0. 0.]\n",
      "Updated vetor: [ 0.  0.  0.  0.  0. 11.  0.  0.  0.  0.]\n"
     ]
    }
   ],
   "source": [
    "#Create null array\n",
    "az = np.zeros(10)\n",
    "print(\"Null vetor:\",az)\n",
    "\n",
    "#Change the 6th value\n",
    "az[5] = 11\n",
    "print(\"Updated vetor:\",az)"
   ]
  },
  {
   "cell_type": "markdown",
   "id": "fc2727d2",
   "metadata": {},
   "source": [
    "Write a NumPy program to create an array with values ranging from 12 to 38. Expected Output: [12 13 14 15 16 17 18 19 20 21 22 23 24 25 26 27 28 29 30 31 32 33 34 35 36 37]"
   ]
  },
  {
   "cell_type": "code",
   "execution_count": 6,
   "id": "71a8d222",
   "metadata": {},
   "outputs": [
    {
     "data": {
      "text/plain": [
       "array([12, 13, 14, 15, 16, 17, 18, 19, 20, 21, 22, 23, 24, 25, 26, 27, 28,\n",
       "       29, 30, 31, 32, 33, 34, 35, 36, 37])"
      ]
     },
     "execution_count": 6,
     "metadata": {},
     "output_type": "execute_result"
    }
   ],
   "source": [
    "#Creating a 1D array\n",
    "ad = np.arange(12,38)\n",
    "ad"
   ]
  },
  {
   "cell_type": "markdown",
   "id": "0a25af86",
   "metadata": {},
   "source": [
    "\n",
    "Write a NumPy program to reverse an array (the first element becomes the last). Original array: [12 13 14 15 16 17 18 19 20 21 22 23 24 25 26 27 28 29 30 31 32 33 34 35 36 37] Reverse array: [37 36 35 34 33 32 31 30 29 28 27 26 25 24 23 22 21 20 19 18 17 16 15 14 13 12]"
   ]
  },
  {
   "cell_type": "code",
   "execution_count": 7,
   "id": "900be25e",
   "metadata": {},
   "outputs": [
    {
     "data": {
      "text/plain": [
       "array([37, 36, 35, 34, 33, 32, 31, 30, 29, 28, 27, 26, 25, 24, 23, 22, 21,\n",
       "       20, 19, 18, 17, 16, 15, 14, 13, 12])"
      ]
     },
     "execution_count": 7,
     "metadata": {},
     "output_type": "execute_result"
    }
   ],
   "source": [
    "#Calling ad to reverse\n",
    "da = ad[:: -1]\n",
    "da"
   ]
  },
  {
   "cell_type": "markdown",
   "id": "e1d212ed",
   "metadata": {},
   "source": [
    "Write a NumPy program to convert an array to a floating type. Sample output: Original array [1, 2, 3, 4] Array converted to a float type: [ 1. 2. 3. 4.]"
   ]
  },
  {
   "cell_type": "code",
   "execution_count": 8,
   "id": "c296a516",
   "metadata": {},
   "outputs": [
    {
     "name": "stdout",
     "output_type": "stream",
     "text": [
      "Array [1 2 3 4]\n",
      "Float as [1. 2. 3. 4.]\n"
     ]
    }
   ],
   "source": [
    "#Create 1D array\n",
    "b = np.arange(1,5)\n",
    "print(\"Array\" ,b)\n",
    "\n",
    "#Change to float type\n",
    "b_flt = b.astype(float)\n",
    "print(\"Float as\", b_flt)"
   ]
  },
  {
   "cell_type": "markdown",
   "id": "32b20c60",
   "metadata": {},
   "source": [
    "Write a NumPy program to create a 2D array with 1 on the border and 0 inside. Expected Output: Original array: [[ 1. 1. 1. 1. 1.] ................... [ 1. 1. 1. 1. 1.]]"
   ]
  },
  {
   "cell_type": "code",
   "execution_count": 9,
   "id": "711581c3",
   "metadata": {},
   "outputs": [
    {
     "name": "stdout",
     "output_type": "stream",
     "text": [
      "Updated array:\n",
      "[[1. 1. 1. 1. 1.]\n",
      " [1. 0. 0. 0. 1.]\n",
      " [1. 0. 0. 0. 1.]\n",
      " [1. 0. 0. 0. 1.]\n",
      " [1. 1. 1. 1. 1.]]\n"
     ]
    }
   ],
   "source": [
    "#5x5 matrix of zeros, double brackets as zero takes one argument\n",
    "arr = np.zeros((5,5))\n",
    "\n",
    "# Set the border elements to 1\n",
    "arr[0, :] = 1  # First row\n",
    "arr[-1, :] = 1  # Last row\n",
    "arr[:, 0] = 1  # First column\n",
    "arr[:, -1] = 1  # Last column\n",
    "\n",
    "# Print the original array\n",
    "print(\"Updated array:\")\n",
    "print(arr)"
   ]
  },
  {
   "cell_type": "markdown",
   "id": "5740bac6",
   "metadata": {},
   "source": [
    "Write a NumPy program to find the number of elements in an array. It also finds the length of one array element in bytes and the total bytes consumed by the elements. Expected Output: Size of the array: 3 Length of one array element in bytes: 8 Total bytes consumed by the elements of the array: 24"
   ]
  },
  {
   "cell_type": "code",
   "execution_count": 10,
   "id": "734b14d6",
   "metadata": {},
   "outputs": [
    {
     "name": "stdout",
     "output_type": "stream",
     "text": [
      "Size of the array: 3\n",
      "Length of one array element in bytes: 4\n",
      "Total bytes consumed by the elements of the array: 12\n"
     ]
    }
   ],
   "source": [
    "# Create a 1D array with type int\n",
    "c = np.arange(1,4)\n",
    "c_arr = c.astype(int)\n",
    "type(c_arr)\n",
    "\n",
    "# Find the size of the array (number of elements)\n",
    "size_of_array = c_arr.size\n",
    "\n",
    "# Find the length of one array element in bytes\n",
    "element_size_in_bytes = c_arr.itemsize\n",
    "\n",
    "# Find the total bytes consumed by the elements of the array\n",
    "total_bytes_consumed = size_of_array * element_size_in_bytes\n",
    "\n",
    "# Print the results\n",
    "print(\"Size of the array:\", size_of_array)\n",
    "print(\"Length of one array element in bytes:\", element_size_in_bytes)\n",
    "print(\"Total bytes consumed by the elements of the array:\", total_bytes_consumed)"
   ]
  }
 ],
 "metadata": {
  "kernelspec": {
   "display_name": "Python 3 (ipykernel)",
   "language": "python",
   "name": "python3"
  },
  "language_info": {
   "codemirror_mode": {
    "name": "ipython",
    "version": 3
   },
   "file_extension": ".py",
   "mimetype": "text/x-python",
   "name": "python",
   "nbconvert_exporter": "python",
   "pygments_lexer": "ipython3",
   "version": "3.11.5"
  }
 },
 "nbformat": 4,
 "nbformat_minor": 5
}
